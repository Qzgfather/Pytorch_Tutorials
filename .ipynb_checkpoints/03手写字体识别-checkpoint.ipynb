{
 "cells": [
  {
   "cell_type": "markdown",
   "metadata": {},
   "source": [
    "# 03、手写字体识别\n",
    "\n",
    "上一节我们新建了一个多层感知机，对整个流程有了大体的印象，其中我们使用了nn.Sequential()来对模型进行定义，与nn.Sequential()类似的API还有ModuleList，ModuleDict，他们都是继承于nn.Module,一个通用组件，下面将对Sequential、ModuleList，ModuleDict进行介绍，然后最后介绍nn.Module,并使用其构建自定义模型。\n",
    "## 1.Sequential\n",
    "\n",
    "   其中使用自定义模型的API，net = nn.Sequential()，Sequential是一个有序的容器，网络层将按照在传入Sequential的顺序依次添加到计算图中，除此之外还有其他定义模型的方法：\n",
    "1. 方法一\n",
    "net = nn.Sequential(nn.Linear(n_input, 1))\n",
    "2. 方法二\n",
    "net = nn.Sequential()\n",
    "net.add_module('linear',nn.Linear(n_input, 1))\n",
    "3. 方法三\n",
    "net = nn.Sequential(\n",
    "    OrderedDict([\n",
    "        ('linear',nn.Linear(10,10)),\n",
    "        ('linear',nn.Linear(10,1))]\n",
    "    )\n",
    ")"
   ]
  },
  {
   "cell_type": "code",
   "execution_count": 14,
   "metadata": {},
   "outputs": [
    {
     "data": {
      "text/plain": [
       "Sequential(\n",
       "  (0): Linear(in_features=10, out_features=10, bias=True)\n",
       "  (1): Linear(in_features=10, out_features=1, bias=True)\n",
       ")"
      ]
     },
     "execution_count": 14,
     "metadata": {},
     "output_type": "execute_result"
    }
   ],
   "source": [
    "# 1. 方法一,直接在Sequential()中添加网络层，网络层会直接进行堆叠，注意输出与输入的维度关系，如下代码所示\n",
    "import torch\n",
    "from torch import nn\n",
    "net = nn.Sequential(nn.Linear(10, 10), nn.Linear(10, 1))\n",
    "net"
   ]
  },
  {
   "cell_type": "code",
   "execution_count": 17,
   "metadata": {},
   "outputs": [
    {
     "data": {
      "text/plain": [
       "Sequential(\n",
       "  (my_linear): Linear(in_features=10, out_features=10, bias=True)\n",
       "  (my_linear_2): Linear(in_features=10, out_features=1, bias=True)\n",
       ")"
      ]
     },
     "execution_count": 17,
     "metadata": {},
     "output_type": "execute_result"
    }
   ],
   "source": [
    "# 2. 方法二，实例完对象后调用其add_module,传入层的名字和层对象即可，注意：如果名字是一样的就会看作一个整体\n",
    "net = nn.Sequential()\n",
    "net.add_module('my_linear',nn.Linear(10, 10))\n",
    "net.add_module('my_linear_2',nn.Linear(10, 1))\n",
    "net"
   ]
  },
  {
   "cell_type": "code",
   "execution_count": 19,
   "metadata": {},
   "outputs": [
    {
     "data": {
      "text/plain": [
       "Sequential(\n",
       "  (linear_1): Linear(in_features=10, out_features=10, bias=True)\n",
       "  (linear_2): Linear(in_features=10, out_features=1, bias=True)\n",
       ")"
      ]
     },
     "execution_count": 19,
     "metadata": {},
     "output_type": "execute_result"
    }
   ],
   "source": [
    "# 3. 方法三，传入一个有序字典，其中OrderedDict需要传入一个列表，其中列表中包括层名称与层对象的元组\n",
    "from collections import OrderedDict\n",
    "import torch\n",
    "from torch import nn\n",
    "net = nn.Sequential(\n",
    "    OrderedDict([\n",
    "        ('linear_1',nn.Linear(10,10)),           \n",
    "        ('linear_2',nn.Linear(10,1))]\n",
    "    )\n",
    ")\n",
    "net"
   ]
  },
  {
   "cell_type": "markdown",
   "metadata": {},
   "source": [
    "综上所述，Sequential()在构建简单的模型时很方便，除了Sequential()以外还有其他的方法对模型进行定义，ModuleList,ModuleDict"
   ]
  },
  {
   "cell_type": "markdown",
   "metadata": {},
   "source": [
    "## 2.ModuleList\n",
    "ModuleList像python的list列表一样，传入列表对象，然后可以使用append,extend对网络进行操作，可以对网络进行索引。"
   ]
  },
  {
   "cell_type": "code",
   "execution_count": 21,
   "metadata": {},
   "outputs": [
    {
     "data": {
      "text/plain": [
       "ModuleList(\n",
       "  (0): Linear(in_features=784, out_features=256, bias=True)\n",
       "  (1): ReLU()\n",
       ")"
      ]
     },
     "execution_count": 21,
     "metadata": {},
     "output_type": "execute_result"
    }
   ],
   "source": [
    "net = nn.ModuleList([nn.Linear(784, 256), nn.ReLU()])\n",
    "net"
   ]
  },
  {
   "cell_type": "markdown",
   "metadata": {},
   "source": [
    "## 3.ModuleDict\n",
    "ModuleDict像python的dict字典一样，传入字典对象，然后可以像操作字典一样对网络进行操作。"
   ]
  },
  {
   "cell_type": "code",
   "execution_count": 26,
   "metadata": {},
   "outputs": [
    {
     "data": {
      "text/plain": [
       "Linear(in_features=256, out_features=10, bias=True)"
      ]
     },
     "execution_count": 26,
     "metadata": {},
     "output_type": "execute_result"
    }
   ],
   "source": [
    "net = nn.ModuleDict({\n",
    "    'linear':nn.Linear(784, 256),\n",
    "    'act':nn.ReLU(),\n",
    "    'linear2':nn.Linear(256, 10)\n",
    "})\n",
    "net['out'] = nn.Linear(10, 1)\n",
    "net['linear2'] # 访问网络的某一层"
   ]
  },
  {
   "cell_type": "markdown",
   "metadata": {},
   "source": [
    "## 4.nn.Module\n",
    "nn.Module可以构建更加复杂的网络，首先我们需要自定义一个类，继承nn.Module，然后重写__init__方法，和forward函数，__init__ 是对网络的层进行简单的定义，然后forward函数是对网络的前向计算进行规定，因为我们上面介绍了很多构建模型的方法，在构建复杂模型时可以进行任意组合构建我们需要的模型。"
   ]
  },
  {
   "cell_type": "code",
   "execution_count": 29,
   "metadata": {},
   "outputs": [
    {
     "data": {
      "text/plain": [
       "Model(\n",
       "  (liner1): Linear(in_features=784, out_features=100, bias=True)\n",
       "  (liner2): Linear(in_features=100, out_features=50, bias=True)\n",
       "  (liner3): Linear(in_features=50, out_features=10, bias=True)\n",
       ")"
      ]
     },
     "execution_count": 29,
     "metadata": {},
     "output_type": "execute_result"
    }
   ],
   "source": [
    "class Model(nn.Module):\n",
    "    def __init__(self, num_input, num_output):\n",
    "        super(Model, self).__init__()\n",
    "        self.liner1 = nn.Linear(num_input, 100)\n",
    "        self.liner2 = nn.Linear(100, 50)\n",
    "        self.liner3 = nn.Linear(50, num_output)\n",
    "\n",
    "    def forward(self, x):\n",
    "        y = self.liner1(x.view(-1, 784))\n",
    "        y = self.liner2(y)\n",
    "        y = self.liner3(y)\n",
    "        return y\n",
    "net = Model(784, 10)\n",
    "net"
   ]
  },
  {
   "cell_type": "code",
   "execution_count": 31,
   "metadata": {},
   "outputs": [
    {
     "data": {
      "text/plain": [
       "Model_Se(\n",
       "  (net): Sequential(\n",
       "    (0): Linear(in_features=784, out_features=100, bias=True)\n",
       "    (1): Linear(in_features=100, out_features=50, bias=True)\n",
       "    (2): Linear(in_features=50, out_features=10, bias=True)\n",
       "  )\n",
       ")"
      ]
     },
     "execution_count": 31,
     "metadata": {},
     "output_type": "execute_result"
    }
   ],
   "source": [
    "# 与Sequential配合使用\n",
    "\n",
    "class Model_Se(nn.Module):\n",
    "    def __init__(self, num_input, num_output):\n",
    "        super(Model_Se, self).__init__()\n",
    "        self.net = nn.Sequential(nn.Linear(num_input, 100),\n",
    "                                 nn.Linear(100, 50),\n",
    "                                 nn.Linear(50, num_output))\n",
    "    def forward(self, x):\n",
    "        y = self.net(x.view(-1, 784))\n",
    "        return y\n",
    "net = Model_Se(784, 10)\n",
    "net"
   ]
  },
  {
   "cell_type": "markdown",
   "metadata": {},
   "source": [
    "更复杂的使用，读者可以自己进行尝试，以不变应万变对于复杂模型见招拆招。"
   ]
  },
  {
   "cell_type": "markdown",
   "metadata": {},
   "source": [
    "## 训练过程\n",
    "这一小节我们主要介绍，torchvison自带的数据集处理接口，torchvision.datasets,提供了大量的数据集接口，只需一行代码就可以下载数据集，供下一步进行处理。支持的数据集有：\n",
    "\n",
    "MNIST、Fashion-MNIST、KMNIST、EMNIST、QMNIST、FakeData、COCO、Captions、Detection、LSUN、ImageFolder、DatasetFolder、ImageNet、CIFAR、STL10\n",
    "、SVHN、PhotoTour、SBU、Flickr、VOC、Cityscapes、SBD、USPS、Kinetics-400、HMDB51、UCF101\n",
    "\n",
    "参考：https://pytorch.org/docs/master/torchvision/datasets.html#torchvision-datasets\n",
    "\n",
    "然后我们使用torch.utils.data.DataLoader来将数据集转换成迭代器类型，在训练的时候可以不断的生成数据，供训练使用。这一节使用的MNIST可以使用API，torchvision.datasets.MNIST(),来获取，你需要传入的参数有root，下载数据放置的文件夹，train默认True，是否使用训练数据, transform默认None,是对训练集进行处理，数据增强，target_transform默认None,是否对标签数据进行处理，download默认False，是否需要下载数据集，torchvision.datasets.MNIST()API构建了getitem方法你可以使用for循环对数据进行迭代获取。光获取数据也可以直接进行训练，但是不方便进行批次处理和shuffle操作，所以我们需要torch.utils.data.DataLoader将获取到的数据可迭代对象传入，然后进行shuffle和batch_size获取经过shuffle的批次数据，使用根据官方文档可知 \n",
    ">我们可迭代样式的数据集是IterableDataset 实现__iter__()协议的子类的实例，并且表示数据样本上的可迭代。这种类型的数据集特别适用于随机读取价格昂贵甚至不大可能，并且批处理大小取决于所获取数据的情况。例如，这样的数据集称为时iter(dataset)，可以返回从数据库，远程服务器甚至实时生成的日志中读取的数据流。\n",
    "\n",
    "后续会讲到自定义数据，到时我们将对构建数据集的方法进行进一步详细介绍。\n",
    "\n",
    "参考：https://pytorch.org/docs/master/_modules/torch/utils/data/dataloader.html#DataLoader"
   ]
  },
  {
   "cell_type": "code",
   "execution_count": 2,
   "metadata": {},
   "outputs": [],
   "source": [
    "import torch\n",
    "from torchvision import datasets\n",
    "from torch import nn\n",
    "from torchvision.transforms import transforms\n",
    "import torch.optim as optim\n",
    "import torch.nn.functional as F\n",
    "transform = transforms.Compose([\n",
    "    transforms.ToTensor(),\n",
    "\n",
    "])\n",
    "\n",
    "trainset = datasets.MNIST(root='./data', train=True,\n",
    "                          download=False, transform=transform)\n",
    "trainloader = torch.utils.data.DataLoader(trainset, batch_size=64,\n",
    "                                          shuffle=True)\n",
    "\n",
    "\n",
    "testset = datasets.MNIST(root='./data', train=False,\n",
    "                         download=False, transform=transform)\n",
    "testloader = torch.utils.data.DataLoader(testset, batch_size=64,\n",
    "                                         shuffle=False)"
   ]
  },
  {
   "cell_type": "code",
   "execution_count": 3,
   "metadata": {},
   "outputs": [],
   "source": [
    "class Model(nn.Module):\n",
    "    def __init__(self, num_input, num_output):\n",
    "        super(Model, self).__init__()\n",
    "        self.linear = nn.Linear(784, 10)\n",
    "\n",
    "    def forward(self, x):\n",
    "        x = x.view(-1,784)\n",
    "        y = F.relu(self.linear(x))\n",
    "        return y\n",
    "\n",
    "\n",
    "model = Model(784, 10)"
   ]
  },
  {
   "cell_type": "code",
   "execution_count": 4,
   "metadata": {},
   "outputs": [],
   "source": [
    "criterion = nn.CrossEntropyLoss()\n",
    "optimizer = optim.SGD(model.parameters(), lr=0.001, momentum=0.9)\n",
    "epochs = 10"
   ]
  },
  {
   "cell_type": "code",
   "execution_count": null,
   "metadata": {},
   "outputs": [],
   "source": [
    "# 在训练过程中一般一个轮次训练结束后对测试集整体进行测试，获取测试集上的损失和准确率\n",
    "losses = []\n",
    "acces = []\n",
    "eval_losses = []\n",
    "eval_acces = []\n",
    "for e in range(epochs):\n",
    "    train_loss = 0\n",
    "    train_acc = 0\n",
    "#     model.train() \n",
    "    for data, target in trainloader:\n",
    "        optimizer.zero_grad()\n",
    "        output = model(data)\n",
    "        loss = criterion(output, target)\n",
    "        loss.backward()\n",
    "        optimizer.step()\n",
    "        # loss.item()是平均损失，平均损失*batch_size=一次训练的损失\n",
    "        train_loss += loss.item() * data.size(0)  \n",
    "        _, pred = output.max(1)\n",
    "        # 计算一个批次对了几个\n",
    "        num_correct = (pred == target).sum().item()\n",
    "        # 计算准确率=对的个数/批次大小\n",
    "        acc = num_correct / data.shape[0]\n",
    "        train_acc += acc\n",
    "    # 统计一个轮次中平均损失与平均准确率\n",
    "#     losses.append(train_loss / len(trainloader.dataset))\n",
    "    acces.append(train_acc / len(trainloader))\n",
    "    eval_loss = 0\n",
    "    eval_acc = 0\n",
    "    # model.eval() # 将模型改为预测模式\n",
    "    for im, label in testloader:\n",
    "        out = model(im)\n",
    "        loss = criterion(out, label)\n",
    "        # 记录误差\n",
    "        eval_loss += loss.item()\n",
    "        # 记录准确率\n",
    "        _, pred = out.max(1)\n",
    "        num_correct = (pred == label).sum().item()\n",
    "        acc = num_correct / im.shape[0]\n",
    "        eval_acc += acc\n",
    "    # 上面的代码对全部的测试集进行测试，下面两行就是讲这一次的整个测试集的损失和准确率存在列表里,如果进行可视化可能会用到\n",
    "#     eval_losses.append(eval_loss / len(testloader.dataset))\n",
    "    eval_acces.append(eval_acc / len(testloader))\n",
    "    print('epoch: {}, Train Loss: {:.6f}, Train Acc: {:.6f}, Eval Loss: {:.6f}, Eval Acc: {:.6f}'\n",
    "          .format(e, train_loss / len(trainloader), train_acc / len(trainloader), \n",
    "                     eval_loss / len(testloader), eval_acc / len(testloader)))"
   ]
  },
  {
   "cell_type": "markdown",
   "metadata": {},
   "source": [
    "**补充说明：**\n",
    "\n",
    "在训练过程中，需要设置model.train()让模型处于训练状态其作用是启用BN和Dropout,在进行验证操作时需要设置为model.eval()虽然现在不设置也没关系，随后随着模型的复杂化当使用到BN和Dropout是切记设置正确参数。"
   ]
  },
  {
   "cell_type": "code",
   "execution_count": 6,
   "metadata": {},
   "outputs": [
    {
     "data": {
      "image/png": "[encoded data removed]",
      "text/plain": [
       "<Figure size 432x288 with 1 Axes>"
      ]
     },
     "metadata": {
      "needs_background": "light"
     },
     "output_type": "display_data"
    }
   ],
   "source": [
    "import matplotlib.pyplot as plt\n",
    "import numpy as np\n",
    "from matplotlib.font_manager import FontProperties\n",
    "# acces\n",
    "# eval_acces\n",
    "myfont = FontProperties(fname='C:/Windows/Fonts/simhei.ttf')\n",
    "h1, = plt.plot([x for x in range(len(acces))], acces, label=\"训练集准确率\")\n",
    "h2, = plt.plot([y for y in range(len(eval_acces))], eval_acces, label=\"测试集准确率\")\n",
    "plt.title('准确率随迭代次数变化图像', fontproperties=myfont)\n",
    "plt.xlabel('迭代次数', fontproperties=myfont)\n",
    "plt.ylabel('准确率平均值', fontproperties=myfont)\n",
    "plt.legend(handles=[h1,h2],labels=['训练集准确率','测试集准确率'],prop=myfont)\n",
    "plt.show()"
   ]
  },
  {
   "cell_type": "code",
   "execution_count": null,
   "metadata": {},
   "outputs": [],
   "source": []
  },
  {
   "cell_type": "code",
   "execution_count": null,
   "metadata": {},
   "outputs": [],
   "source": []
  }
 ],
 "metadata": {
  "kernelspec": {
   "display_name": "Python 3",
   "language": "python",
   "name": "python3"
  },
  "language_info": {
   "codemirror_mode": {
    "name": "ipython",
    "version": 3
   },
   "file_extension": ".py",
   "mimetype": "text/x-python",
   "name": "python",
   "nbconvert_exporter": "python",
   "pygments_lexer": "ipython3",
   "version": "3.6.6"
  }
 },
 "nbformat": 4,
 "nbformat_minor": 4
}
